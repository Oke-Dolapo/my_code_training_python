{
  "nbformat": 4,
  "nbformat_minor": 0,
  "metadata": {
    "colab": {
      "provenance": [],
      "authorship_tag": "ABX9TyPCuQDWzMnBu5MjUxwLtsxI",
      "include_colab_link": true
    },
    "kernelspec": {
      "name": "python3",
      "display_name": "Python 3"
    },
    "language_info": {
      "name": "python"
    }
  },
  "cells": [
    {
      "cell_type": "markdown",
      "metadata": {
        "id": "view-in-github",
        "colab_type": "text"
      },
      "source": [
        "<a href=\"https://colab.research.google.com/github/Oke-Dolapo/my_code_training_python/blob/main/email_password_login.ipynb\" target=\"_parent\"><img src=\"https://colab.research.google.com/assets/colab-badge.svg\" alt=\"Open In Colab\"/></a>"
      ]
    },
    {
      "cell_type": "markdown",
      "source": [
        "creating a email and password login details\n",
        "it checks if the password is correct and matches the email too."
      ],
      "metadata": {
        "id": "ChGWpYq2aJ9-"
      }
    },
    {
      "cell_type": "code",
      "source": [
        "class Student:\n",
        "    def __init__(self, name, email, password, course):\n",
        "        self.name = name\n",
        "        self.__email = email.lower()\n",
        "        self.__password = password\n",
        "        self.course = course\n",
        "    def log_in_details(self, email, password):\n",
        "        if self.__password == password and self.__email == email.lower():\n",
        "            print(f\"Hello, {self.name}, you are welcome to {self.course} class. best of luck\")\n",
        "            return True\n",
        "        return False #login failed\n",
        "\n",
        "students= [Student(\"Adeyemo tolu\", \"tolu@gmail.com\" , \"1234\", \"python\"),\n",
        "           Student(\"shola bolu\", \"shola@gmail.com\", \"1235\", \"math\"),\n",
        "           Student(\"Adefolawe Titi\", \"adefo@gmail.com\", \"1289\", \"English\")\n",
        "           ]\n",
        "\n",
        "enter_email = input(\"enter email address: \")\n",
        "enter_password = input(\"enter password: \")\n",
        "\n",
        "for student in students:\n",
        "    if student.log_in_details(enter_email, enter_password):\n",
        "        break\n",
        "else:\n",
        "    print(\"wrong details\")"
      ],
      "metadata": {
        "colab": {
          "base_uri": "https://localhost:8080/"
        },
        "id": "_4uc1q59abJ-",
        "outputId": "98c6639e-7f97-4225-ba54-f1d2010d3f09"
      },
      "execution_count": 2,
      "outputs": [
        {
          "output_type": "stream",
          "name": "stdout",
          "text": [
            "enter email address: tolu@gmail.com\n",
            "enter password: 1234\n",
            "Hello, Adeyemo tolu, you are welcome to python class. best of luck\n"
          ]
        }
      ]
    }
  ]
}