{
  "nbformat": 4,
  "nbformat_minor": 0,
  "metadata": {
    "colab": {
      "provenance": [],
      "authorship_tag": "ABX9TyOwLZIEHvwqnbIiepTzfxEG",
      "include_colab_link": true
    },
    "kernelspec": {
      "name": "python3",
      "display_name": "Python 3"
    },
    "language_info": {
      "name": "python"
    }
  },
  "cells": [
    {
      "cell_type": "markdown",
      "metadata": {
        "id": "view-in-github",
        "colab_type": "text"
      },
      "source": [
        "<a href=\"https://colab.research.google.com/github/Oke-Dolapo/my_code_training_python/blob/main/number_guessing_game_assignment.ipynb\" target=\"_parent\"><img src=\"https://colab.research.google.com/assets/colab-badge.svg\" alt=\"Open In Colab\"/></a>"
      ]
    },
    {
      "cell_type": "code",
      "execution_count": null,
      "metadata": {
        "colab": {
          "base_uri": "https://localhost:8080/"
        },
        "id": "zNKo356uLDDY",
        "outputId": "e49aada2-3851-42d6-94da-3622cd77d347"
      },
      "outputs": [
        {
          "output_type": "stream",
          "name": "stdout",
          "text": [
            "🎲WELCOME TO NUMBER GUESSING GAME🎲\n",
            "you have 3 attempt at this think carefully 😈\n",
            "i am thinking of a number between 1 to 100 🧐... \n"
          ]
        }
      ],
      "source": [
        "import random #to use random numbers from 1 to 100\n",
        "print('🎲WELCOME TO NUMBER GUESSING GAME🎲')\n",
        "print('you have 3 attempt at this think carefully 😈')\n",
        "print('i am thinking of a number between 1 to 100 🧐... ')\n",
        "secret_number= random.randint(1,100)\n",
        "attempts = 3 #this gives user 3 tryings\n",
        "while attempts > 0:\n",
        "    guess=int(input('💡Enter your guess: '))\n",
        "    if guess==secret_number:\n",
        "      print('🏆🎉You Won!!😎 ')\n",
        "      attempts = 4 #this is for the attempt to start counting from 3 again.\n",
        "    elif guess<secret_number:\n",
        "        print('😏too low! Try again.')\n",
        "    else:\n",
        "        print('😲too high! Try again.')\n",
        "    if attempts > 0:\n",
        "        attempts -= 1\n",
        "        print('you have ', attempts, 'tries left.')\n",
        "else:\n",
        "    print('❌ Game over! The number was ', secret_number)"
      ]
    }
  ]
}