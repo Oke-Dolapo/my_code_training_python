{
  "nbformat": 4,
  "nbformat_minor": 0,
  "metadata": {
    "colab": {
      "provenance": [],
      "authorship_tag": "ABX9TyNVFB20kKKPnQ4Se4tIygrd",
      "include_colab_link": true
    },
    "kernelspec": {
      "name": "python3",
      "display_name": "Python 3"
    },
    "language_info": {
      "name": "python"
    }
  },
  "cells": [
    {
      "cell_type": "markdown",
      "metadata": {
        "id": "view-in-github",
        "colab_type": "text"
      },
      "source": [
        "<a href=\"https://colab.research.google.com/github/Oke-Dolapo/my_code_training_python/blob/main/Updated_rolling_dice_version.ipynb\" target=\"_parent\"><img src=\"https://colab.research.google.com/assets/colab-badge.svg\" alt=\"Open In Colab\"/></a>"
      ]
    },
    {
      "cell_type": "markdown",
      "source": [
        "Updated rolling dice simulator\n",
        "\n",
        "\n",
        "\n",
        "\n"
      ],
      "metadata": {
        "id": "IhEYot3Tg7KP"
      }
    },
    {
      "cell_type": "code",
      "source": [
        "# put it in a loop\n",
        "# roll a dice y/n. if it is not y or n print invalid\n",
        "# random numbers\n",
        "# add counter\n",
        "# multiple options of dice rolling\n",
        "# n terminates the game\n",
        "\n",
        "import random\n",
        "\n",
        "counter = 0\n",
        "\n",
        "\n",
        "def multichoice(num_dice):\n",
        "    result = []\n",
        "    for i in range(num_dice):\n",
        "        result.append(random.randint(1, 6))\n",
        "    return result\n",
        "\n",
        "\n",
        "while True:\n",
        "    user_num_dice_choice = int(input(\"\\nHow many dice would you like to roll: \"))\n",
        "    user_roll_dice = input(\"roll the dice y/n : \").lower()\n",
        "    if user_roll_dice == \"y\":\n",
        "        user_dice_result = multichoice(user_num_dice_choice)\n",
        "        counter += 1\n",
        "        print(f\"you rolled {user_dice_result}\")\n",
        "    elif user_roll_dice == \"n\":\n",
        "        print(f\"\\nyou rolled the dice {counter} times\")\n",
        "        print(\"Thank you and bye\")\n",
        "        break\n",
        "    else:\n",
        "        print(\"Invalid input use 'y or n'. \")\n",
        "\n"
      ],
      "metadata": {
        "colab": {
          "base_uri": "https://localhost:8080/"
        },
        "id": "BQQ2ZazXhVeC",
        "outputId": "4d04c9b9-a561-4851-863c-7ba7d831780a"
      },
      "execution_count": 3,
      "outputs": [
        {
          "output_type": "stream",
          "name": "stdout",
          "text": [
            "\n",
            "How many dice would you like to roll: 6\n",
            "roll the dice y/n : Y\n",
            "you rolled [6, 3, 3, 2, 4, 3]\n",
            "\n",
            "How many dice would you like to roll: 5\n",
            "roll the dice y/n : Y\n",
            "you rolled [1, 1, 5, 3, 5]\n",
            "\n",
            "How many dice would you like to roll: 2\n",
            "roll the dice y/n : Y\n",
            "you rolled [4, 4]\n",
            "\n",
            "How many dice would you like to roll: 1\n",
            "roll the dice y/n : Y\n",
            "you rolled [1]\n",
            "\n",
            "How many dice would you like to roll: 0\n",
            "roll the dice y/n : Y\n",
            "you rolled []\n",
            "\n",
            "How many dice would you like to roll: 8\n",
            "roll the dice y/n : N\n",
            "\n",
            "you rolled the dice 5 times\n",
            "Thank you and bye\n"
          ]
        }
      ]
    }
  ]
}