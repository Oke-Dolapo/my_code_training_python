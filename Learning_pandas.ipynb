{
  "nbformat": 4,
  "nbformat_minor": 0,
  "metadata": {
    "colab": {
      "provenance": [],
      "authorship_tag": "ABX9TyPBlLdjZbnw4UYrdM6xlIK4",
      "include_colab_link": true
    },
    "kernelspec": {
      "name": "python3",
      "display_name": "Python 3"
    },
    "language_info": {
      "name": "python"
    }
  },
  "cells": [
    {
      "cell_type": "markdown",
      "metadata": {
        "id": "view-in-github",
        "colab_type": "text"
      },
      "source": [
        "<a href=\"https://colab.research.google.com/github/Oke-Dolapo/my_code_training_python/blob/main/Learning_pandas.ipynb\" target=\"_parent\"><img src=\"https://colab.research.google.com/assets/colab-badge.svg\" alt=\"Open In Colab\"/></a>"
      ]
    },
    {
      "cell_type": "markdown",
      "source": [
        "# Instructions :\n",
        "# Create a list of products, 'Apple', 'Banana', 'Carrot', 'Daikon'.\n",
        "# Convert the list into a pandas Series using the pd.Series() function.\n",
        "# Print out the new Series to see the values.\n",
        "# Create a Series with prices of the products, [2, 1, 3, 4]\n",
        "# Print out the new Series to see the values.\n",
        "# Add the two Series together and print out the result.\n",
        "# Create a DataFrame using a dictionary of lists, where the keys are 'Product' and 'Price' and the values are the two Series you created.\n",
        "# Print out the DataFrame to see the values.\n",
        "# Create a DataFrame using a list of dictionaries, where each dictionary represents a row in the DataFrame with keys 'Product' and 'Price' and values from the two Series you created.\n",
        "# Print out the DataFrame to see the values. Make sure to import pandas library before doing the exercises.\n"
      ],
      "metadata": {
        "id": "fsKJKprET5HB"
      }
    },
    {
      "cell_type": "code",
      "source": [
        "\n",
        "import pandas as pd\n",
        "\n",
        "products = [\"Apple\", \"Banana\", \"Carrot\", \"Daikon\"]\n",
        "products_in_column = pd.Series(products)\n",
        "print(products_in_column)\n",
        "product_prices = [2, 1, 3, 4]\n",
        "product_prices_column = pd.Series(product_prices)\n",
        "print(product_prices_column)\n",
        "both_series = pd.concat([products_in_column, product_prices_column])\n",
        "print(both_series)\n",
        "products_dict = {\n",
        "    \"Product_name\": products_in_column,\n",
        "    \"product_prices\": product_prices_column\n",
        "}\n",
        "table_of_products = pd.DataFrame(products_dict)\n",
        "print(table_of_products)"
      ],
      "metadata": {
        "colab": {
          "base_uri": "https://localhost:8080/"
        },
        "id": "ZrUIhViET9Pm",
        "outputId": "9dd22c3e-75a9-4144-e62f-5e845724e510"
      },
      "execution_count": 1,
      "outputs": [
        {
          "output_type": "stream",
          "name": "stdout",
          "text": [
            "0     Apple\n",
            "1    Banana\n",
            "2    Carrot\n",
            "3    Daikon\n",
            "dtype: object\n",
            "0    2\n",
            "1    1\n",
            "2    3\n",
            "3    4\n",
            "dtype: int64\n",
            "0     Apple\n",
            "1    Banana\n",
            "2    Carrot\n",
            "3    Daikon\n",
            "0         2\n",
            "1         1\n",
            "2         3\n",
            "3         4\n",
            "dtype: object\n",
            "  Product_name  product_prices\n",
            "0        Apple               2\n",
            "1       Banana               1\n",
            "2       Carrot               3\n",
            "3       Daikon               4\n"
          ]
        }
      ]
    }
  ]
}