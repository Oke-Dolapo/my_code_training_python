{
  "nbformat": 4,
  "nbformat_minor": 0,
  "metadata": {
    "colab": {
      "provenance": [],
      "authorship_tag": "ABX9TyOfpM3cmzfTXgyzW9cbUIzb",
      "include_colab_link": true
    },
    "kernelspec": {
      "name": "python3",
      "display_name": "Python 3"
    },
    "language_info": {
      "name": "python"
    }
  },
  "cells": [
    {
      "cell_type": "markdown",
      "metadata": {
        "id": "view-in-github",
        "colab_type": "text"
      },
      "source": [
        "<a href=\"https://colab.research.google.com/github/Oke-Dolapo/my_code_training_python/blob/main/Student_grade_system.ipynb\" target=\"_parent\"><img src=\"https://colab.research.google.com/assets/colab-badge.svg\" alt=\"Open In Colab\"/></a>"
      ]
    },
    {
      "cell_type": "markdown",
      "source": [
        "Description:\n",
        "\n",
        "You're creating a mini student grading system. The program will:\n",
        "\n",
        "Allow the user to enter names and scores for 3 students.\n",
        "For each student:\n",
        "Check the score and assign a grade based on the table below:\n",
        "90–100: A\n",
        "80–89: B\n",
        "70–79: C\n",
        "60–69: D\n",
        "Below 60: F\n",
        "Save each student's name, score, and grade in a dictionary.\n",
        "After all 3 students are entered, display a report using a for loop.\n",
        "✅ Requirements:\n",
        "Use a while loop to keep asking for student info until 3 students are entered.\n",
        "Use if, elif, else to assign grades.\n",
        "Use a list to store the students' dictionaries.\n",
        "Print a summary at the end using a for loop.\n"
      ],
      "metadata": {
        "id": "W35UIsVeStt7"
      }
    },
    {
      "cell_type": "code",
      "source": [
        "student = []\n",
        "count = 0\n",
        "while count < 3:\n",
        "    name = input(\"enter name: \")\n",
        "    score = int(input(\"enter score: \"))\n",
        "    if 90 <= score <=100:\n",
        "        Grade = \"A\"\n",
        "    elif 80 <= score < 90:\n",
        "        Grade = \"B\"\n",
        "    elif 70 <= score <80:\n",
        "        Grade = \"C\"\n",
        "    elif 60 <= score <70:\n",
        "        Grade = \"D\"\n",
        "    else:\n",
        "        Grade = \"F\"\n",
        "    student.append({\"name\" : name, \"score\" : score, \"grade\" : Grade})\n",
        "    count += 1\n",
        "print(\"  Student Report \")\n",
        "for i in student:\n",
        "    print(\"name:\" , i[\"name\"], \"score:\", i[\"score\"],\"grade:\", i[\"grade\"])\n",
        "\n",
        "\n",
        "\n"
      ],
      "metadata": {
        "colab": {
          "base_uri": "https://localhost:8080/"
        },
        "id": "OA9QUmZlSuIV",
        "outputId": "6bae5c46-ae19-4eef-b1f0-d649ad9d83d4"
      },
      "execution_count": 1,
      "outputs": [
        {
          "output_type": "stream",
          "name": "stdout",
          "text": [
            "enter name: Ola Ojo\n",
            "enter score: 90\n",
            "enter name: Tijesu Oluwa\n",
            "enter score: 67\n",
            "enter name: Sola Dayo\n",
            "enter score: 71\n",
            "  Student Report \n",
            "name: Ola Ojo score: 90 grade: A\n",
            "name: Tijesu Oluwa score: 67 grade: D\n",
            "name: Sola Dayo score: 71 grade: C\n"
          ]
        }
      ]
    }
  ]
}