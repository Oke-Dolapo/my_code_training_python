{
  "nbformat": 4,
  "nbformat_minor": 0,
  "metadata": {
    "colab": {
      "provenance": [],
      "authorship_tag": "ABX9TyPQbJ1MdM1OLOMZrsx+9PJk",
      "include_colab_link": true
    },
    "kernelspec": {
      "name": "python3",
      "display_name": "Python 3"
    },
    "language_info": {
      "name": "python"
    }
  },
  "cells": [
    {
      "cell_type": "markdown",
      "metadata": {
        "id": "view-in-github",
        "colab_type": "text"
      },
      "source": [
        "<a href=\"https://colab.research.google.com/github/Oke-Dolapo/my_code_training_python/blob/main/guessing_game.ipynb\" target=\"_parent\"><img src=\"https://colab.research.google.com/assets/colab-badge.svg\" alt=\"Open In Colab\"/></a>"
      ]
    },
    {
      "cell_type": "code",
      "execution_count": 3,
      "metadata": {
        "colab": {
          "base_uri": "https://localhost:8080/"
        },
        "id": "68Dav3uZHi8l",
        "outputId": "e6405246-ae51-4559-ac28-015a3870c7e5"
      },
      "outputs": [
        {
          "output_type": "stream",
          "name": "stdout",
          "text": [
            "input any number from 1 to 8 😎: 8\n",
            "you lose 😔\n",
            "do you want to play again 😏, yes or no?  yes\n",
            "guess again 😁\n",
            "input any number from 1 to 8 😎: 1\n",
            "you lose 😔\n",
            "do you want to play again 😏, yes or no?  no\n",
            "Okay bye 🤗\n"
          ]
        }
      ],
      "source": [
        "import random\n",
        "while True:\n",
        "    hide = random.randint(1, 8)\n",
        "    user = int(input('input any number from 1 to 8 😎: '))\n",
        "    if hide == user:\n",
        "        print('you won 🤩🎉')\n",
        "    else:\n",
        "        print('you lose 😔')\n",
        "    play_again = input('do you want to play again 😏, yes or no?  ')\n",
        "    if play_again != 'yes':\n",
        "        print('Okay bye 🤗')\n",
        "        break\n",
        "    else:\n",
        "        print('guess again 😁')"
      ]
    }
  ]
}