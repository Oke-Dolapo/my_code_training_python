{
  "nbformat": 4,
  "nbformat_minor": 0,
  "metadata": {
    "colab": {
      "provenance": [],
      "authorship_tag": "ABX9TyP8jIVAjrpPl8XqIuHChB4o",
      "include_colab_link": true
    },
    "kernelspec": {
      "name": "python3",
      "display_name": "Python 3"
    },
    "language_info": {
      "name": "python"
    }
  },
  "cells": [
    {
      "cell_type": "markdown",
      "metadata": {
        "id": "view-in-github",
        "colab_type": "text"
      },
      "source": [
        "<a href=\"https://colab.research.google.com/github/Oke-Dolapo/my_code_training_python/blob/main/assignment2.ipynb\" target=\"_parent\"><img src=\"https://colab.research.google.com/assets/colab-badge.svg\" alt=\"Open In Colab\"/></a>"
      ]
    },
    {
      "cell_type": "markdown",
      "source": [
        "Write a Python program that multiplies all the items in a list.\n",
        "\n",
        "Sample list= [2, 3, 6]\n",
        "\n",
        "Result = 36"
      ],
      "metadata": {
        "id": "wwR_3140_tO3"
      }
    },
    {
      "cell_type": "code",
      "source": [
        "sample_list =[2,3,6]\n",
        "result = 1\n",
        "for i in sample_list:\n",
        "  result *= i #mutiple the result  by iteration 1*2=2 then result changes and it is 2*3=6..etc\n",
        "  print(result)"
      ],
      "metadata": {
        "colab": {
          "base_uri": "https://localhost:8080/"
        },
        "id": "7mnt0NLp_zkF",
        "outputId": "5f1c1a10-f4ee-4be9-ffb4-972023a7f81f"
      },
      "execution_count": 3,
      "outputs": [
        {
          "output_type": "stream",
          "name": "stdout",
          "text": [
            "2\n",
            "6\n",
            "36\n"
          ]
        }
      ]
    },
    {
      "cell_type": "markdown",
      "source": [
        "Write a Python program to get a list, sorted in increasing order by the last element in each tuple, from a given list of non-empty tuples.\n",
        "\n",
        "Sample List : [(2, 5), (1, 2), (4, 4), (2, 3), (2, 1)]\n",
        "\n",
        "Expected result : [(2, 1), (1, 2), (2, 3), (4, 4), (2, 5)]\n",
        "\n",
        "Hint: You can use the sort function."
      ],
      "metadata": {
        "id": "dpnrP_UqAYNd"
      }
    },
    {
      "cell_type": "code",
      "source": [
        "sample_list = [(2, 5), (1, 2), (4, 4), (2, 3), (2, 1)]\n",
        "def get_last_number(tup): #start a function with def pointing out using tuples\n",
        "  return tup [-1] #return should be the last of each tuples\n",
        "sample_list.sort(key = get_last_number) #then sort it using the formula created\n",
        "print(sample_list)\n",
        "\n"
      ],
      "metadata": {
        "colab": {
          "base_uri": "https://localhost:8080/"
        },
        "id": "OkH5ks_YApMy",
        "outputId": "84e6ad7f-a9d7-4c10-95e9-94605ba773c2"
      },
      "execution_count": 29,
      "outputs": [
        {
          "output_type": "stream",
          "name": "stdout",
          "text": [
            "[(2, 1), (1, 2), (2, 3), (4, 4), (2, 5)]\n"
          ]
        }
      ]
    },
    {
      "cell_type": "markdown",
      "source": [
        "Write a Python program that combines two dictionaries by adding values for common keys.\n",
        "\n",
        "d1 = {'a': 100, 'b': 200, 'c':300}\n",
        "\n",
        "d2 = {'a': 300, 'b': 200, 'd':400}\n",
        "\n",
        "Expected result: {'a': 400, 'b': 400, 'd': 400, 'c': 300}"
      ],
      "metadata": {
        "id": "xyLvpxLGNkr7"
      }
    },
    {
      "cell_type": "code",
      "source": [
        "d1 = {'a': 100, 'b': 200, 'c':300}\n",
        "\n",
        "d2 = {'a': 300, 'b': 200, 'd':400}\n",
        "combine ={}\n",
        "for key in d1:\n",
        "  combine[key]= d1[key]+d2.get(key,0) #using .get for d2 is because it gives error if all keys doesn't match. now with get any key that isn't in both dict. use 0 instead.\n",
        "for key in d2:\n",
        "    if key not in combine:\n",
        "        combine[key]= d2[key] #instruction is to just add the ones not found on both list to combine list\n",
        "print(combine)"
      ],
      "metadata": {
        "colab": {
          "base_uri": "https://localhost:8080/"
        },
        "id": "R5ohBGJ2Npo-",
        "outputId": "bab70de1-1bd6-4df4-d115-00f481e9e84d"
      },
      "execution_count": 31,
      "outputs": [
        {
          "output_type": "stream",
          "name": "stdout",
          "text": [
            "{'a': 400, 'b': 400, 'c': 300, 'd': 400}\n"
          ]
        }
      ]
    },
    {
      "cell_type": "markdown",
      "source": [
        "With a given integral number n, write a program to generate a dictionary that contains (i, i*i) so that is an integral number between 1 and n (both included). Then the program should print the dictionary. Suppose the following input is supplied to the program: 8. Then, the output should be: {1: 1, 2: 4, 3: 9, 4: 16, 5: 25, 6: 36, 7: 49, 8: 64}"
      ],
      "metadata": {
        "id": "aaRxWLebPV8U"
      }
    },
    {
      "cell_type": "code",
      "source": [
        "n = 8\n",
        "dict1 ={}\n",
        "for i in range (1, n+1): #this is for the numbers to count from 1 to 8. if we use only n it will stop @7 but +1 turns it to 9 and we could also just type 9 but if value in n is changed then the formula won't be correct anymore\n",
        "  dict1[i]= i*i #this is dict1 key should be the range of 1 to it that's why used dict[i] then the key value should be the key * the key.\n",
        "print(dict1)\n",
        "\n"
      ],
      "metadata": {
        "colab": {
          "base_uri": "https://localhost:8080/"
        },
        "id": "-b0eLpz2QX0B",
        "outputId": "51559d80-89bf-4184-d121-e86444d7b9f6"
      },
      "execution_count": 38,
      "outputs": [
        {
          "output_type": "stream",
          "name": "stdout",
          "text": [
            "{1: 1, 2: 4, 3: 9, 4: 16, 5: 25, 6: 36, 7: 49, 8: 64}\n"
          ]
        }
      ]
    },
    {
      "cell_type": "markdown",
      "source": [
        "Write a program to sort a tuple by its float element.\n",
        "\n",
        "For example: list= [('item1', '12.20'), ('item2', '15.10'), ('item3', '24.5')]\n",
        "\n",
        "Expected result: [('item3', '24.5'), ('item2', '15.10'), ('item1', '12.20')]\n",
        "\n"
      ],
      "metadata": {
        "id": "dhiSEy8tkNPO"
      }
    },
    {
      "cell_type": "code",
      "source": [
        "from typing_extensions import OrderedDict\n",
        "list = [('item1', '12.20'), ('item2', '15.10'), ('item3', '24.5')]\n",
        "def ordered_list(tup):\n",
        "  return float(tup[-1]) #turning the tup to float so that it can calcuate down to the decimeral values\n",
        "list.sort(key = ordered_list, reverse=True) #the reverse turned it backwards\n",
        "print(list)\n"
      ],
      "metadata": {
        "colab": {
          "base_uri": "https://localhost:8080/"
        },
        "id": "jhCD7GzYkOiA",
        "outputId": "69b5bcc4-e7cd-4aec-a138-e344d5f3410e"
      },
      "execution_count": 40,
      "outputs": [
        {
          "output_type": "stream",
          "name": "stdout",
          "text": [
            "[('item3', '24.5'), ('item2', '15.10'), ('item1', '12.20')]\n"
          ]
        }
      ]
    },
    {
      "cell_type": "markdown",
      "source": [
        "Write a Python program to create a set.\n",
        "\n",
        "Examples : {0, 1, 2, 3, 4}\n",
        "\n",
        "Write a Python program to iteration over sets.\n",
        "\n",
        "Write a Python program to add members in a set and to remove items from a given set."
      ],
      "metadata": {
        "id": "u_vllj-0oiUf"
      }
    },
    {
      "cell_type": "code",
      "source": [
        "s1 = {0, 1, 2, 3, 4}\n",
        "for i in s1:\n",
        "  print(i)\n",
        "s1.add(5) #this is to add\n",
        "s1.remove(0) #this is to remove\n",
        "print(s1)\n"
      ],
      "metadata": {
        "colab": {
          "base_uri": "https://localhost:8080/"
        },
        "id": "_BRV2rGqojn7",
        "outputId": "c52ad170-32f5-468a-a0cd-99a4f12c90dc"
      },
      "execution_count": 48,
      "outputs": [
        {
          "output_type": "stream",
          "name": "stdout",
          "text": [
            "0\n",
            "1\n",
            "2\n",
            "3\n",
            "4\n",
            "{1, 2, 3, 4, 5}\n"
          ]
        }
      ]
    }
  ]
}