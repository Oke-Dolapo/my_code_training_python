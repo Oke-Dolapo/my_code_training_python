{
  "nbformat": 4,
  "nbformat_minor": 0,
  "metadata": {
    "colab": {
      "provenance": [],
      "authorship_tag": "ABX9TyMgpM4gE7Rx+0ps5rztaJmU",
      "include_colab_link": true
    },
    "kernelspec": {
      "name": "python3",
      "display_name": "Python 3"
    },
    "language_info": {
      "name": "python"
    }
  },
  "cells": [
    {
      "cell_type": "markdown",
      "metadata": {
        "id": "view-in-github",
        "colab_type": "text"
      },
      "source": [
        "<a href=\"https://colab.research.google.com/github/Oke-Dolapo/my_code_training_python/blob/main/dictionary_used_as_translator.ipynb\" target=\"_parent\"><img src=\"https://colab.research.google.com/assets/colab-badge.svg\" alt=\"Open In Colab\"/></a>"
      ]
    },
    {
      "cell_type": "markdown",
      "source": [
        "using a dictionary to make a translator"
      ],
      "metadata": {
        "id": "h1kVXeDYbq12"
      }
    },
    {
      "cell_type": "code",
      "source": [
        "#dictionary of words\n",
        "translations = {\"hello\" : \"bonjour\", \"goodbye\": \"au revoir\", \"please\" : \"s'il vous plaît\",\n",
        "                \"thank you\": \"merci\", \"yes\" : \"oui\", \"no\": \"non\"}\n",
        "#user should type in an english word. lower was added to make sure all input comes in lowercase regardless of user input\n",
        "user = input(\"type your english word to translate to french: \").lower()\n",
        "if user in translations:\n",
        "    print(\"french word is: \", translations[user])\n",
        "else:\n",
        "    print(\"sorry i don't know that word.\")"
      ],
      "metadata": {
        "colab": {
          "base_uri": "https://localhost:8080/"
        },
        "id": "82XMF-8Mr02t",
        "outputId": "d6f8c474-d651-4ca1-b565-ad3bb8a9d96f"
      },
      "execution_count": 5,
      "outputs": [
        {
          "output_type": "stream",
          "name": "stdout",
          "text": [
            "type your english word to translate to french: yes\n",
            "french word is:  oui\n"
          ]
        }
      ]
    }
  ]
}