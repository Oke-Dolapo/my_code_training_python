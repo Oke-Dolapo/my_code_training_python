{
  "nbformat": 4,
  "nbformat_minor": 0,
  "metadata": {
    "colab": {
      "provenance": [],
      "authorship_tag": "ABX9TyMZSxs6AwtlXsvNyDurR0r5",
      "include_colab_link": true
    },
    "kernelspec": {
      "name": "python3",
      "display_name": "Python 3"
    },
    "language_info": {
      "name": "python"
    }
  },
  "cells": [
    {
      "cell_type": "markdown",
      "metadata": {
        "id": "view-in-github",
        "colab_type": "text"
      },
      "source": [
        "<a href=\"https://colab.research.google.com/github/Oke-Dolapo/my_code_training_python/blob/main/Password_generator.ipynb\" target=\"_parent\"><img src=\"https://colab.research.google.com/assets/colab-badge.svg\" alt=\"Open In Colab\"/></a>"
      ]
    },
    {
      "cell_type": "markdown",
      "source": [
        "making password generator"
      ],
      "metadata": {
        "id": "e_Z_dVWu0-kf"
      }
    },
    {
      "cell_type": "code",
      "source": [
        "import random\n",
        "print(\"Welcome to Password Generator\")\n",
        "capital_letters = list(\"ABCDEFGHIJKLMNOPQRSTUVWXYZ\")\n",
        "small_letters = list(\"abcdefghijklmnopqrstuvwxyz\")\n",
        "numbers = list(\"0123456789\")\n",
        "symbols = list(\"!@#$%^&*\")\n",
        "combined = capital_letters + small_letters + numbers + symbols\n",
        "password_length = int(input(\"Enter desired password length: \"))\n",
        "password = \"\".join(random.choice(combined) for i in range(password_length))\n",
        "print(\"Your password is: \", password)"
      ],
      "metadata": {
        "colab": {
          "base_uri": "https://localhost:8080/"
        },
        "id": "oBGUYB71zE8U",
        "outputId": "02028630-608e-43cb-c129-a3f707843697"
      },
      "execution_count": 3,
      "outputs": [
        {
          "output_type": "stream",
          "name": "stdout",
          "text": [
            "Welcome to Password Generator\n",
            "Enter desired password length: 17\n",
            "Your password is:  uGyNY7*IlHXWyIjAu\n"
          ]
        }
      ]
    }
  ]
}