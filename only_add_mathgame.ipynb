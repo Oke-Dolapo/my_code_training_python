{
  "nbformat": 4,
  "nbformat_minor": 0,
  "metadata": {
    "colab": {
      "provenance": [],
      "authorship_tag": "ABX9TyNR+bvsCsuxUrsn0Np9fvR0",
      "include_colab_link": true
    },
    "kernelspec": {
      "name": "python3",
      "display_name": "Python 3"
    },
    "language_info": {
      "name": "python"
    }
  },
  "cells": [
    {
      "cell_type": "markdown",
      "metadata": {
        "id": "view-in-github",
        "colab_type": "text"
      },
      "source": [
        "<a href=\"https://colab.research.google.com/github/Oke-Dolapo/my_code_training_python/blob/main/only_add_mathgame.ipynb\" target=\"_parent\"><img src=\"https://colab.research.google.com/assets/colab-badge.svg\" alt=\"Open In Colab\"/></a>"
      ]
    },
    {
      "cell_type": "code",
      "execution_count": null,
      "metadata": {
        "colab": {
          "base_uri": "https://localhost:8080/"
        },
        "id": "EoxRUZ9m9gmH",
        "outputId": "0cb11deb-c586-4cac-f531-208d19c8447f"
      },
      "outputs": [
        {
          "output_type": "stream",
          "name": "stdout",
          "text": [
            "10\n",
            "+\n",
            "9\n",
            "what is the answer? 19\n",
            "you are correct\n",
            "would you like to play again, yes or no? yes\n",
            "this is fun, let do this again!!!\n",
            "31\n",
            "+\n",
            "58\n"
          ]
        }
      ],
      "source": [
        "import random #this is random once that's why it is outside the while loop\n",
        "while True:\n",
        "    def secret_number(): #this is to get the random value return. i tried otherwise and it said no value so tried this way so it can return the value\n",
        "        secret = random.randint(1, 100)\n",
        "        return secret #this is the return value. it in int class\n",
        "    x = secret_number() # i gave it a variable because it wasn't giving the value in int it was in 0001b... formula way!!\n",
        "    y = secret_number()\n",
        "    print(x) #now i can print the value correctly\n",
        "    oprator = print('+') #this was to show the oprator but although it was showing red underline it still worked. i have to still look for a right way for this.\n",
        "    print(y)\n",
        "\n",
        "    user = int(input('what is the answer? ')) #user answer to the formula\n",
        "    formula = (x + y) #system answer. the right answer.\n",
        "    if user == formula:\n",
        "        print('you are correct')\n",
        "    else:\n",
        "        print('you are wrong, the answer is ' + str(formula)) # i had to add str it thinks i was trying to add str + int so add to make the formula a str\n",
        "    play_again = input('would you like to play again, yes or no? ') #this is case sensitive. as to be small letters if not it won't work\n",
        "    if play_again != 'yes':\n",
        "        break\n",
        "    else:\n",
        "        print('this is fun, let do this again!!!') #i added this so that the message can show before the restarting of the game again.\n"
      ]
    }
  ]
}