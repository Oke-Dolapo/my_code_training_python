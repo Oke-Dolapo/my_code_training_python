{
  "nbformat": 4,
  "nbformat_minor": 0,
  "metadata": {
    "colab": {
      "provenance": [],
      "authorship_tag": "ABX9TyPBSXI8U0AHOpMYvqn5pq4I",
      "include_colab_link": true
    },
    "kernelspec": {
      "name": "python3",
      "display_name": "Python 3"
    },
    "language_info": {
      "name": "python"
    }
  },
  "cells": [
    {
      "cell_type": "markdown",
      "metadata": {
        "id": "view-in-github",
        "colab_type": "text"
      },
      "source": [
        "<a href=\"https://colab.research.google.com/github/Oke-Dolapo/my_code_training_python/blob/main/analysing_student_grades.ipynb\" target=\"_parent\"><img src=\"https://colab.research.google.com/assets/colab-badge.svg\" alt=\"Open In Colab\"/></a>"
      ]
    },
    {
      "cell_type": "markdown",
      "source": [
        "What You're Aiming For\n",
        "\n",
        "The objective  is to utilize the NumPy library to perform detailed analysis on a dataset of student grades. This includes calculating statistical measures, identifying trends, and extracting subsets of data to understand the performance and achievements of students within a specific grading scale.\n",
        "\n",
        "\n",
        "Instructions\n",
        "\n",
        "Create a numpy array called \"grades\" that contains the following grades: [85, 90, 88, 92, 95, 80, 75, 98, 89, 83]\n",
        "\n",
        "Import the numpy library and create the \"grades\" array as specified above.\n",
        "Use numpy functions to calculate the mean, median, and standard deviation of the grades.\n",
        "Use numpy function to find the maximum and minimum of the grades.\n",
        "Use numpy function to sort the grades in ascending order.\n",
        "Use numpy function to find the index of the highest grade in the array.\n",
        "Use numpy function to count the number of students who scored above 90.\n",
        "Use numpy function to calculate the percentage of students who scored above 90.\n",
        "Use numpy function to calculate the percentage of students who scored below 75.\n",
        "Use numpy function to extract all the grades above 90 and put them in a new array called \"high_performers\".\n",
        "Create a new array called \"passing_grades\" that contains all the grades above 75.\n",
        "Print the result of all the above steps.\n",
        "Note:\n",
        "\n",
        "to calculate percentage use numpy.mean(grades > 90) * 100\n",
        "to extract the grades above 90 use grades[grades > 90]\n",
        "to extract the grades above 75 use grades[grades > 75]\n",
        "You can use other numpy functions as well to analyze the data as you want. The above steps are just examples of what can be done."
      ],
      "metadata": {
        "id": "B53EyBr06lD5"
      }
    },
    {
      "cell_type": "code",
      "source": [
        "import numpy as np\n",
        "\n",
        "grades = np.array([85, 90, 88, 92, 95, 80, 75, 98, 89, 83])\n",
        "grades_mean = np.mean(grades)\n",
        "print(f\"This is the grades mean: {grades_mean}\")\n",
        "grades_median = np.median(grades)\n",
        "print(f\"This is the grades median : {grades_median}\")\n",
        "grades_std = np.std(grades)\n",
        "print(f\"This is the grades standard deviation: {grades_std}\")\n",
        "grades_min = np.min(grades)\n",
        "print(f\"This is the minimum grade: {grades_min}\")\n",
        "grade_max = np.max(grades)\n",
        "print(f\"This is the maximum grade: {grade_max}\")\n",
        "ascending_grade = np.sort(grades)\n",
        "print(f\"Ascending order of the grades: {ascending_grade}\")\n",
        "index_of_highest_grade = np.argmax(ascending_grade)\n",
        "print(f'This is the index of the highest value: {index_of_highest_grade}')\n",
        "count_grade_above_90 = np.sum(grades > 90)\n",
        "print(f\"We have total number of grades above 90: {count_grade_above_90}\")\n",
        "percentage_grade_above_90 = np.mean(grades > 90)*100\n",
        "print(f\"This is the percentage of the grades above 90: {percentage_grade_above_90}%\")\n",
        "percentage_grade_below_75 = np.mean(grades < 75)*100\n",
        "print(f\"This is the percentage of the grades below 75: {percentage_grade_below_75}%\")\n",
        "high_performers = grades[grades > 90]\n",
        "print(f\"This are the high performers list: {high_performers}\")\n",
        "passing_grades = grades[grades > 75]\n",
        "print(f\"This are the passing grades list: {passing_grades}\")\n",
        "grade_percentile = np.percentile(grades, 90)\n",
        "print(f\"This is the 90th percentile: {grade_percentile}\")"
      ],
      "metadata": {
        "colab": {
          "base_uri": "https://localhost:8080/"
        },
        "id": "djZwUneY6qUv",
        "outputId": "c63e5b03-0eb0-49aa-cc97-4bca4f746079"
      },
      "execution_count": 1,
      "outputs": [
        {
          "output_type": "stream",
          "name": "stdout",
          "text": [
            "This is the grades mean: 87.5\n",
            "This is the grades median : 88.5\n",
            "This is the grades standard deviation: 6.591661399070799\n",
            "This is the minimum grade: 75\n",
            "This is the maximum grade: 98\n",
            "Ascending order of the grades: [75 80 83 85 88 89 90 92 95 98]\n",
            "This is the index of the highest value: 9\n",
            "We have total number of grades above 90: 3\n",
            "This is the percentage of the grades above 90: 30.0%\n",
            "This is the percentage of the grades below 75: 0.0%\n",
            "This are the high performers list: [92 95 98]\n",
            "This are the passing grades list: [85 90 88 92 95 80 98 89 83]\n",
            "This is the 90th percentile: 95.3\n"
          ]
        }
      ]
    }
  ]
}