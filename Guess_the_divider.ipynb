{
  "nbformat": 4,
  "nbformat_minor": 0,
  "metadata": {
    "colab": {
      "provenance": [],
      "authorship_tag": "ABX9TyNmbsPKVSW43zxbrtUXTP8v",
      "include_colab_link": true
    },
    "kernelspec": {
      "name": "python3",
      "display_name": "Python 3"
    },
    "language_info": {
      "name": "python"
    }
  },
  "cells": [
    {
      "cell_type": "markdown",
      "metadata": {
        "id": "view-in-github",
        "colab_type": "text"
      },
      "source": [
        "<a href=\"https://colab.research.google.com/github/Oke-Dolapo/my_code_training_python/blob/main/Guess_the_divider.ipynb\" target=\"_parent\"><img src=\"https://colab.research.google.com/assets/colab-badge.svg\" alt=\"Open In Colab\"/></a>"
      ]
    },
    {
      "cell_type": "code",
      "execution_count": 3,
      "metadata": {
        "colab": {
          "base_uri": "https://localhost:8080/"
        },
        "id": "nMVxjoZGLeHT",
        "outputId": "1a8422ee-316a-42c9-eb77-c72002ac1108"
      },
      "outputs": [
        {
          "output_type": "stream",
          "name": "stdout",
          "text": [
            "Welcome To Guess The Divider Game ➗\n",
            "Are you ready for this!!!😎\n",
            "Python will provide a number for you to decide if either 5, 6 or 7 can divide this value successfully\n",
            "If not game over!!!❌\n",
            "\n",
            "Number:  49\n",
            "Which number divides this, choose from the list (5,6, or 7): 7\n",
            "correct🏆\n",
            "\n",
            "Number:  330\n",
            "Which number divides this, choose from the list (5,6, or 7): 5\n",
            "correct🏆\n",
            "\n",
            "Number:  665\n",
            "Which number divides this, choose from the list (5,6, or 7): 5\n",
            "correct🏆\n",
            "\n",
            "Number:  402\n",
            "Which number divides this, choose from the list (5,6, or 7): 6\n",
            "correct🏆\n",
            "\n",
            "Number:  180\n",
            "Which number divides this, choose from the list (5,6, or 7): 2\n",
            "invalid number choose either 5,6 or 7\n",
            "\n",
            "Number:  168\n",
            "Which number divides this, choose from the list (5,6, or 7): 7\n",
            "correct🏆\n",
            "\n",
            "Number:  270\n",
            "Which number divides this, choose from the list (5,6, or 7): 5\n",
            "correct🏆\n",
            "\n",
            "Number:  119\n",
            "Which number divides this, choose from the list (5,6, or 7): 6\n",
            "wrong❌. try again\n",
            "score is : 6\n"
          ]
        }
      ],
      "source": [
        "print(\"Welcome To Guess The Divider Game ➗\")\n",
        "print(\"Are you ready for this!!!😎\")\n",
        "print(\"Python will provide a number for you to decide if either 5, 6 or 7 can divide this value successfully\") #enter any value that either 5,6 or 7 can successfully divide without remaining.\n",
        "print(\"If not game over!!!❌\")\n",
        "import random\n",
        "Score = 0 #this is to count the scores for the user.\n",
        "divisors = [5,6,7] #the numbers needed to divide the values perfectly\n",
        "while True:\n",
        "    secret_number = random.choice(divisors) #this randomly chooses the divisors\n",
        "    number =  secret_number * random.randint(2,100) #like 5*2=10, 6*2=12 and 7*2=14\n",
        "    print(\"\\nNumber: \", number) #\\n this is to move the number to another line\n",
        "    user_input = int(input(\"Which number divides this, choose from the list (5,6, or 7): \"))\n",
        "    if user_input not in [5,6,7]:\n",
        "        print(\"invalid number choose either 5,6 or 7\")\n",
        "        continue\n",
        "    if number % user_input == 0:\n",
        "        print(\"correct🏆\")\n",
        "        Score += 1\n",
        "    else:\n",
        "        print(\"wrong❌. try again\")\n",
        "        print(\"score is : \" + str(Score))\n",
        "        break"
      ]
    }
  ]
}