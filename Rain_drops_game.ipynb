{
  "nbformat": 4,
  "nbformat_minor": 0,
  "metadata": {
    "colab": {
      "provenance": [],
      "authorship_tag": "ABX9TyOFkvqoxNjN59QI+xErOK13",
      "include_colab_link": true
    },
    "kernelspec": {
      "name": "python3",
      "display_name": "Python 3"
    },
    "language_info": {
      "name": "python"
    }
  },
  "cells": [
    {
      "cell_type": "markdown",
      "metadata": {
        "id": "view-in-github",
        "colab_type": "text"
      },
      "source": [
        "<a href=\"https://colab.research.google.com/github/Oke-Dolapo/my_code_training_python/blob/main/Rain_drops_game.ipynb\" target=\"_parent\"><img src=\"https://colab.research.google.com/assets/colab-badge.svg\" alt=\"Open In Colab\"/></a>"
      ]
    },
    {
      "cell_type": "code",
      "execution_count": null,
      "metadata": {
        "colab": {
          "base_uri": "https://localhost:8080/"
        },
        "id": "--VAy6IRxMoo",
        "outputId": "371d87cc-1360-46b0-ed7f-f48dafb65e1a"
      },
      "outputs": [
        {
          "output_type": "stream",
          "name": "stdout",
          "text": [
            "Welcome To Raindrop Game ⛈🌧💧\n",
            "Type in any value that divisible by either 5, 6 or 7\n",
            "If not divisible by any of this value then it game over!!!❌\n"
          ]
        }
      ],
      "source": [
        "print(\"Welcome To Raindrop Game ⛈🌧💧\")\n",
        "print(\"Type in any value that divisible by either 5, 6 or 7\") #enter any value that either 5,6 or 7 can successfully divide without remaining.\n",
        "print(\"If not divisible by any of this value then it game over!!!❌\")\n",
        "while True:\n",
        "    divisible:False\n",
        "    user_number = int(input(\"input your number now🧐: \")) #this helps the number inputted become int. value\n",
        "    if user_number % 5 ==0: #this makes it not only divide, but it checks for remainers to be @ zero\n",
        "        print(\"Raindrops 🌧\")\n",
        "        divisible :True\n",
        "    elif user_number % 6 ==0:\n",
        "        print(\"Raindrops!!!! ⛈, you are good \")\n",
        "        divisible : True\n",
        "    elif user_number % 7 ==0:\n",
        "        print(\"Raindrops!!! 🌩🌧🌊 , you are the best \")\n",
        "        divisible : True\n",
        "    else:\n",
        "        print(\"You didn't make any rain to fall 😢😭, you made me cry...Try again\")\n",
        "        divisible : False\n",
        "        break #this stops the loop when the wrong number is imputed."
      ]
    }
  ]
}