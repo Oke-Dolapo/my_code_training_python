{
  "nbformat": 4,
  "nbformat_minor": 0,
  "metadata": {
    "colab": {
      "provenance": [],
      "authorship_tag": "ABX9TyNGvjkMaRc7M5e5sa13S1OH",
      "include_colab_link": true
    },
    "kernelspec": {
      "name": "python3",
      "display_name": "Python 3"
    },
    "language_info": {
      "name": "python"
    }
  },
  "cells": [
    {
      "cell_type": "markdown",
      "metadata": {
        "id": "view-in-github",
        "colab_type": "text"
      },
      "source": [
        "<a href=\"https://colab.research.google.com/github/Oke-Dolapo/my_code_training_python/blob/main/ROCK_PAPER_SCISSORS.ipynb\" target=\"_parent\"><img src=\"https://colab.research.google.com/assets/colab-badge.svg\" alt=\"Open In Colab\"/></a>"
      ]
    },
    {
      "cell_type": "markdown",
      "source": [
        "# radom with a specific list\n",
        "# storing data\n",
        "# make a while loop\n",
        "# qestion to user and user input\n",
        "# system random pick\n",
        "# logic behind the game:\n",
        "# conditional statements\n",
        "# rock beat scissors(breaks scissors), scissors beats paper(cut paper),\n",
        "# paper beats rock(wraps rock)\n",
        "# end game\n"
      ],
      "metadata": {
        "id": "bF7jZDdRAKFy"
      }
    },
    {
      "cell_type": "code",
      "execution_count": 13,
      "metadata": {
        "colab": {
          "base_uri": "https://localhost:8080/"
        },
        "id": "N2LYCF-bABlm",
        "outputId": "3d26fb26-42e6-4532-aa4c-014765eb590e"
      },
      "outputs": [
        {
          "output_type": "stream",
          "name": "stdout",
          "text": [
            "\n",
            "Rock, Paper or Scissors? (r, p or s): S\n",
            "you choose ✂️\n",
            "system choose 🪨\n",
            "You lose! ☹️\n",
            "\n",
            "would you like to continue? (y/n): Y\n",
            "\n",
            "Rock, Paper or Scissors? (r, p or s): R\n",
            "you choose 🪨\n",
            "system choose 📜\n",
            "You lose! ☹️\n",
            "\n",
            "would you like to continue? (y/n): Y\n",
            "\n",
            "Rock, Paper or Scissors? (r, p or s): P\n",
            "you choose 📜\n",
            "system choose 📜\n",
            "tie\n",
            "\n",
            "would you like to continue? (y/n): Y\n",
            "\n",
            "Rock, Paper or Scissors? (r, p or s): R\n",
            "you choose 🪨\n",
            "system choose ✂️\n",
            "you won ! 🏆 \n",
            "\n",
            "would you like to continue? (y/n): N\n",
            "you won 1 time\n"
          ]
        }
      ],
      "source": [
        "import random\n",
        "\n",
        "choice_dict = {\"r\": \"🪨\", \"p\": \"📜\", \"s\": \"✂️\"}\n",
        "choices = (\"r\", \"p\", \"s\")\n",
        "\n",
        "\n",
        "\n",
        "count = 0\n",
        "\n",
        "while True:\n",
        "    user_choice = input(\"\\nRock, Paper or Scissors? (r, p or s): \").lower()\n",
        "    if user_choice not in choices:\n",
        "        print(\"invalid choice!\")\n",
        "        continue\n",
        "\n",
        "    system_choice = random.choice(choices)\n",
        "\n",
        "    print(f\"you choose {choice_dict[user_choice]}\")\n",
        "    print(f\"system choose {choice_dict[system_choice]}\")\n",
        "\n",
        "    if user_choice == system_choice:\n",
        "        print(\"tie\")\n",
        "    elif (\n",
        "         (user_choice == \"r\" and system_choice == \"s\") or\n",
        "         (user_choice == \"s\" and system_choice == \"p\") or\n",
        "         (user_choice == \"p\" and system_choice == \"r\")):\n",
        "        print(\"you won ! 🏆 \")\n",
        "        count += 1\n",
        "    else:\n",
        "        print(\"You lose! ☹️\")\n",
        "\n",
        "    to_continue = input(\"\\nwould you like to continue? (y/n): \").lower()\n",
        "    if to_continue == \"n\":\n",
        "        print(f\"you won {count} time{'s' if count != 1 else ''}\")\n",
        "        break\n"
      ]
    }
  ]
}