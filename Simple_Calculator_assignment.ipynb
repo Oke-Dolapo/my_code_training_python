{
  "nbformat": 4,
  "nbformat_minor": 0,
  "metadata": {
    "colab": {
      "provenance": [],
      "authorship_tag": "ABX9TyO6lTx6koEv6KfcC5YG+Q+A",
      "include_colab_link": true
    },
    "kernelspec": {
      "name": "python3",
      "display_name": "Python 3"
    },
    "language_info": {
      "name": "python"
    }
  },
  "cells": [
    {
      "cell_type": "markdown",
      "metadata": {
        "id": "view-in-github",
        "colab_type": "text"
      },
      "source": [
        "<a href=\"https://colab.research.google.com/github/Oke-Dolapo/my_code_training_python/blob/main/Simple_Calculator_assignment.ipynb\" target=\"_parent\"><img src=\"https://colab.research.google.com/assets/colab-badge.svg\" alt=\"Open In Colab\"/></a>"
      ]
    },
    {
      "cell_type": "markdown",
      "source": [
        "This exercise involves creating a simple calculator app using Python. The app should be able to perform addition, subtraction, multiplication, and division operations. It will prompt the user to input two numbers and an arithmetic operator, then perform the corresponding operation on the numbers and return the result.\n",
        "\n",
        "Example :\n",
        "\n",
        "Input:\n",
        "\n",
        "Enter the first number: 10\n",
        "\n",
        "Enter the second number: 5\n",
        "\n",
        "Enter the operator (+, -, *, /): *\n",
        "\n",
        "Output:\n",
        "\n",
        "The result is: 50\n",
        "\n",
        "\n",
        "Instructions\n",
        "\n",
        "\n",
        "\n",
        "Open a new Python file in your preferred code editor.\n",
        "Define a function called \"calculator\" that takes two arguments, \"num1\" and \"num2\".\n",
        "Within the function, prompt the user to enter an operator (+, -, *, /).\n",
        "Use conditional statements to determine which operation to perform based on the user's input.\n",
        "Return the result of the operation.\n",
        "Call the function calculator with two numbers and print the result.\n",
        "Handle cases where the user inputs invalid operators or tries to divide by zero.\n",
        "Note:\n",
        "\n",
        "You may want to use a \"while\" loop to allow the user to roll the dice multiple times, or to add some messages to make the program more user-friendly."
      ],
      "metadata": {
        "id": "aEtwolrvWHpm"
      }
    },
    {
      "cell_type": "code",
      "source": [
        "print(\"Simple Calculator\")\n",
        "def calculator (num1, num2, operator_i):\n",
        "    while True:\n",
        "        if operator_i == \"+\":\n",
        "            return float(num1)+float(num2)\n",
        "        elif operator_i == \"-\":\n",
        "            return float(num1)-float(num2)\n",
        "        elif operator_i == \"*\":\n",
        "            return float(num1)*float(num2)\n",
        "        elif operator_i == \"/\":\n",
        "            if num2 ==0:\n",
        "                print(\"Error: Division by zero is not allowed.\")\n",
        "            return float(num1)/float(num2)\n",
        "        else:\n",
        "            print(\"invalid operator input\")\n",
        "while True:\n",
        "    number1 = input(\"Enter the first number: \")\n",
        "    number2 = input(\"Enter the second number: \")\n",
        "    operator_I = input(\"Enter the Operator(+, -, *, /): \")\n",
        "    result = calculator(number1, number2,operator_I)\n",
        "    print(\"result: \", result)\n",
        "    again = input(\"\\nWould you like to try again (input either yes or no): \").lower()\n",
        "    if again != \"yes\":\n",
        "        print(\"okay thank you for using this calculator. Goodbye\")\n",
        "        break\n"
      ],
      "metadata": {
        "id": "FgGglKKIWKUA",
        "colab": {
          "base_uri": "https://localhost:8080/"
        },
        "outputId": "767ac647-392b-4c68-a92a-551135801a4f"
      },
      "execution_count": 5,
      "outputs": [
        {
          "output_type": "stream",
          "name": "stdout",
          "text": [
            "Simple Calculator\n",
            "Enter the first number: 4\n",
            "Enter the second number: 5\n",
            "Enter the Operator(+, -, *, /): +\n",
            "result:  9.0\n",
            "\n",
            "Would you like to try again (input either yes or no): yes\n",
            "Enter the first number: 3\n",
            "Enter the second number: 7\n",
            "Enter the Operator(+, -, *, /): -\n",
            "result:  -4.0\n",
            "\n",
            "Would you like to try again (input either yes or no): yes\n",
            "Enter the first number: 7\n",
            "Enter the second number: 9\n",
            "Enter the Operator(+, -, *, /): *\n",
            "result:  63.0\n",
            "\n",
            "Would you like to try again (input either yes or no): yes\n",
            "Enter the first number: 9\n",
            "Enter the second number: 3\n",
            "Enter the Operator(+, -, *, /): /\n",
            "result:  3.0\n",
            "\n",
            "Would you like to try again (input either yes or no): no\n",
            "okay thank you for using this calculator. Goodbye\n"
          ]
        }
      ]
    }
  ]
}