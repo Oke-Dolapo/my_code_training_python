{
  "nbformat": 4,
  "nbformat_minor": 0,
  "metadata": {
    "colab": {
      "provenance": [],
      "authorship_tag": "ABX9TyM3jIzL2KJ9MWSRnF8rafs0",
      "include_colab_link": true
    },
    "kernelspec": {
      "name": "python3",
      "display_name": "Python 3"
    },
    "language_info": {
      "name": "python"
    }
  },
  "cells": [
    {
      "cell_type": "markdown",
      "metadata": {
        "id": "view-in-github",
        "colab_type": "text"
      },
      "source": [
        "<a href=\"https://colab.research.google.com/github/Oke-Dolapo/my_code_training_python/blob/main/Rolling_Dice.ipynb\" target=\"_parent\"><img src=\"https://colab.research.google.com/assets/colab-badge.svg\" alt=\"Open In Colab\"/></a>"
      ]
    },
    {
      "cell_type": "markdown",
      "source": [
        "ROLLING DICE GAME"
      ],
      "metadata": {
        "id": "ChokQcjxNQj3"
      }
    },
    {
      "cell_type": "code",
      "source": [
        "# put it in a loop\n",
        "# roll a dice y/n. if it is not y or n print invalid\n",
        "# random two numbers\n",
        "# add counter\n",
        "# n terminates the game\n",
        "\n",
        "import random\n",
        "\n",
        "counter = 0\n",
        "\n",
        "while True:\n",
        "    user_dice_choice = int(input(\"How many dice would you like to roll (option: only 2 or 3 dice): \"))\n",
        "    if user_dice_choice == 2:\n",
        "        user_input = input(\"roll the dice y/n : \").lower()\n",
        "        if user_input == \"y\":\n",
        "            first_die = random.randint(1, 6)\n",
        "            second_die = random.randint(1, 6)\n",
        "            counter += 1\n",
        "            print(f\"{first_die}, {second_die}\")\n",
        "        elif user_input == \"n\":\n",
        "            print(f\"\\nyou rolled the dice {counter} times\")\n",
        "            print(\"Thank you and bye\")\n",
        "            break\n",
        "        else:\n",
        "            print(\"Invalid input use 'y or n'. \")\n",
        "    elif user_dice_choice == 3:\n",
        "        user_input = input(\"roll the dice y/n : \").lower()\n",
        "        if user_input == \"y\":\n",
        "            first_die = random.randint(1, 6)\n",
        "            second_die = random.randint(1, 6)\n",
        "            third_die = random.randint(1, 6)\n",
        "            counter += 1\n",
        "            print(f\"{first_die}, {second_die}, {third_die}\")\n",
        "        elif user_input == \"n\":\n",
        "            print(f\"\\nyou rolled the dice {counter} times\")\n",
        "            print(\"Thank you and bye\")\n",
        "            break\n",
        "        else:\n",
        "            print(\"Invalid input use 'y or n'. \")\n",
        "    else:\n",
        "        if user_dice_choice > 3:\n",
        "            print(\"number of dice exceeded! \")\n",
        "        else:\n",
        "            print(\"this is not a number! or is below 2 \")\n"
      ],
      "metadata": {
        "colab": {
          "base_uri": "https://localhost:8080/"
        },
        "id": "4v8wR7XpNbCU",
        "outputId": "a0c2ad8e-8782-4f1c-b639-7663462dd955"
      },
      "execution_count": 3,
      "outputs": [
        {
          "output_type": "stream",
          "name": "stdout",
          "text": [
            "How many dice would you like to roll (option: only 2 or 3 dice): 1\n",
            "this is not a number! or is below 2 \n",
            "How many dice would you like to roll (option: only 2 or 3 dice): 4\n",
            "number of dice exceeded! \n",
            "How many dice would you like to roll (option: only 2 or 3 dice): 2\n",
            "roll the dice y/n : Y\n",
            "4, 3\n",
            "How many dice would you like to roll (option: only 2 or 3 dice): 3\n",
            "roll the dice y/n : Y\n",
            "2, 6, 4\n",
            "How many dice would you like to roll (option: only 2 or 3 dice): 2\n",
            "roll the dice y/n : M\n",
            "Invalid input use 'y or n'. \n",
            "How many dice would you like to roll (option: only 2 or 3 dice): 2\n",
            "roll the dice y/n : N\n",
            "\n",
            "you rolled the dice 2 times\n",
            "Thank you and bye\n"
          ]
        }
      ]
    }
  ]
}