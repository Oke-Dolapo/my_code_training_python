{
  "nbformat": 4,
  "nbformat_minor": 0,
  "metadata": {
    "colab": {
      "provenance": [],
      "authorship_tag": "ABX9TyM6lskNg+XW880M4yKl7x3C",
      "include_colab_link": true
    },
    "kernelspec": {
      "name": "python3",
      "display_name": "Python 3"
    },
    "language_info": {
      "name": "python"
    }
  },
  "cells": [
    {
      "cell_type": "markdown",
      "metadata": {
        "id": "view-in-github",
        "colab_type": "text"
      },
      "source": [
        "<a href=\"https://colab.research.google.com/github/Oke-Dolapo/my_code_training_python/blob/main/list.ipynb\" target=\"_parent\"><img src=\"https://colab.research.google.com/assets/colab-badge.svg\" alt=\"Open In Colab\"/></a>"
      ]
    },
    {
      "cell_type": "markdown",
      "source": [
        "list learning"
      ],
      "metadata": {
        "id": "h1kVXeDYbq12"
      }
    },
    {
      "cell_type": "code",
      "source": [
        "numbers = [17, 38,10,25,72]\n",
        "numbers.sort()\n",
        "print(numbers)\n",
        "numbers.append(12)\n",
        "print(numbers)\n",
        "numbers.reverse()\n",
        "print(numbers)\n",
        "print(numbers[4])\n",
        "numbers.remove(38)\n",
        "print(numbers)\n",
        "print(numbers[1:4])\n",
        "print(numbers[:3])\n",
        "print(numbers[2:])\n",
        "print(numbers)\n",
        "print(numbers[-1])"
      ],
      "metadata": {
        "colab": {
          "base_uri": "https://localhost:8080/"
        },
        "id": "NZGQ7Mi4rGjo",
        "outputId": "393c8739-021a-448c-8d3a-eb10bcb2cccc"
      },
      "execution_count": 3,
      "outputs": [
        {
          "output_type": "stream",
          "name": "stdout",
          "text": [
            "[10, 17, 25, 38, 72]\n",
            "[10, 17, 25, 38, 72, 12]\n",
            "[12, 72, 38, 25, 17, 10]\n",
            "17\n",
            "[12, 72, 25, 17, 10]\n",
            "[72, 25, 17]\n",
            "[12, 72, 25]\n",
            "[25, 17, 10]\n",
            "[12, 72, 25, 17, 10]\n",
            "10\n"
          ]
        }
      ]
    }
  ]
}