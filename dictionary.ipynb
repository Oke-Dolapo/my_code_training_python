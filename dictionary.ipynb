{
  "nbformat": 4,
  "nbformat_minor": 0,
  "metadata": {
    "colab": {
      "provenance": [],
      "authorship_tag": "ABX9TyNlsgnRyYYliTV5KY3RxDe2",
      "include_colab_link": true
    },
    "kernelspec": {
      "name": "python3",
      "display_name": "Python 3"
    },
    "language_info": {
      "name": "python"
    }
  },
  "cells": [
    {
      "cell_type": "markdown",
      "metadata": {
        "id": "view-in-github",
        "colab_type": "text"
      },
      "source": [
        "<a href=\"https://colab.research.google.com/github/Oke-Dolapo/my_code_training_python/blob/main/dictionary.ipynb\" target=\"_parent\"><img src=\"https://colab.research.google.com/assets/colab-badge.svg\" alt=\"Open In Colab\"/></a>"
      ]
    },
    {
      "cell_type": "markdown",
      "source": [
        "dictionary learning"
      ],
      "metadata": {
        "id": "h1kVXeDYbq12"
      }
    },
    {
      "cell_type": "code",
      "source": [
        "student = {\n",
        "     \"name\": \"alice\",\n",
        "     \"age\": \"21\",\n",
        "     \"major\": \"data science\"\n",
        "     }\n",
        "print(student[\"name\"])\n",
        "print(student[\"age\"])\n",
        "print(student[\"major\"])\n",
        "for i in student:\n",
        "    print(i)\n",
        "for i in student:\n",
        "    value = student[i]\n",
        "    print(value)\n",
        "student.update({\"age\": \"22\"})\n",
        "student[\"graduation_year\"] = \"2025\"\n",
        "print(student)\n",
        "for i in student.keys():\n",
        "    print(i)"
      ],
      "metadata": {
        "colab": {
          "base_uri": "https://localhost:8080/"
        },
        "id": "a4hsSjvYpT-K",
        "outputId": "5c247c49-12e2-4392-dddb-09395431045b"
      },
      "execution_count": 2,
      "outputs": [
        {
          "output_type": "stream",
          "name": "stdout",
          "text": [
            "alice\n",
            "21\n",
            "data science\n",
            "name\n",
            "age\n",
            "major\n",
            "alice\n",
            "21\n",
            "data science\n",
            "{'name': 'alice', 'age': '22', 'major': 'data science', 'graduation_year': '2025'}\n",
            "name\n",
            "age\n",
            "major\n",
            "graduation_year\n"
          ]
        }
      ]
    }
  ]
}