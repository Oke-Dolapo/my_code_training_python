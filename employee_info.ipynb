{
  "nbformat": 4,
  "nbformat_minor": 0,
  "metadata": {
    "colab": {
      "provenance": [],
      "authorship_tag": "ABX9TyO9kgTyN/JDuClzCZKT03fZ",
      "include_colab_link": true
    },
    "kernelspec": {
      "name": "python3",
      "display_name": "Python 3"
    },
    "language_info": {
      "name": "python"
    }
  },
  "cells": [
    {
      "cell_type": "markdown",
      "metadata": {
        "id": "view-in-github",
        "colab_type": "text"
      },
      "source": [
        "<a href=\"https://colab.research.google.com/github/Oke-Dolapo/my_code_training_python/blob/main/employee_info.ipynb\" target=\"_parent\"><img src=\"https://colab.research.google.com/assets/colab-badge.svg\" alt=\"Open In Colab\"/></a>"
      ]
    },
    {
      "cell_type": "markdown",
      "source": [
        "What You're Aiming For\n",
        "\n",
        "The objective is to enhance proficiency in manipulating pandas DataFrames by creating and querying datasets using iloc for index-based selections and loc for label-based filtering.\n",
        "\n",
        "\n",
        "Instructions\n",
        "\n",
        "In this exercise, you will work with a dataset called \"employee info\" that contains information about employees in a company. The dataset includes columns such as Name, Department, Age, Gender, Salary, and Experience.\n",
        "\n",
        "Create a dataframe called \"employee_df\" with the following data:\n",
        "\n",
        "import pandas as pd\n",
        "\n",
        "data = {'Name': ['John', 'Mary', 'Bob', 'Sarah', 'Tom', 'Lisa'], 'Department': ['IT', 'Marketing', 'Sales', 'IT', 'Finance', 'Marketing'], 'Age': [30, 40, 25, 35, 45, 28], 'Gender': ['Male', 'Female', 'Male', 'Female', 'Male', 'Female'], 'Salary': [50000, 60000, 45000, 55000, 70000, 55000], 'Experience': [3, 7, 2, 5, 10, 4]}\n",
        "\n",
        " employee_df = pd.DataFrame(data)\n",
        "\n",
        "\n",
        "\n",
        "Use the iloc method to select the first 3 rows of the dataframe.\n",
        "Use the loc method to select all rows where the Department is \"Marketing\".\n",
        "Use the iloc method to select the Age and Gender columns for the first 4 rows of the dataframe.\n",
        "Use the loc method to select the Salary and Experience columns for all rows where the Gender is \"Male\".\n",
        "Note:\n",
        "\n",
        "iloc is used for selection by index location\n",
        "loc is used for selection by label."
      ],
      "metadata": {
        "id": "ZcHlGx11JdgX"
      }
    },
    {
      "cell_type": "code",
      "source": [
        "import pandas as pd\n",
        "\n",
        "data = {\n",
        "    'Name': ['John', 'Mary', 'Bob', 'Sarah', 'Tom', 'Lisa'],\n",
        "    'Department': ['IT', 'Marketing', 'Sales', 'IT', 'Finance', 'Marketing'],\n",
        "    'Age': [30, 40, 25, 35, 45, 28],\n",
        "    'Gender': ['Male', 'Female', 'Male', 'Female', 'Male', 'Female'],\n",
        "    'Salary': [50000, 60000, 45000, 55000, 70000, 55000],\n",
        "    'Experience': [3, 7, 2, 5, 10, 4]\n",
        "}\n",
        "\n",
        "employee_df = pd.DataFrame(data)\n",
        "print(employee_df)\n",
        "print(f\"\\n\", employee_df.iloc[0:3])\n",
        "marketing_department = employee_df.loc[employee_df[\"Department\"]==\"Marketing\"]\n",
        "print(f\"\\n\", marketing_department)\n",
        "age_gender = employee_df.iloc[:4, 2:4]\n",
        "print(f\"\\n\", age_gender)\n",
        "gender_male = employee_df.loc[employee_df[\"Gender\"] == \"Male\" , [\"Salary\", \"Experience\"]]\n",
        "print( f\"\\n\", gender_male)"
      ],
      "metadata": {
        "colab": {
          "base_uri": "https://localhost:8080/"
        },
        "id": "U_kBAcZMJkW4",
        "outputId": "3a16c2cd-b3d9-46b8-dcc2-f4f2d0b101f0"
      },
      "execution_count": 5,
      "outputs": [
        {
          "output_type": "stream",
          "name": "stdout",
          "text": [
            "    Name Department  Age  Gender  Salary  Experience\n",
            "0   John         IT   30    Male   50000           3\n",
            "1   Mary  Marketing   40  Female   60000           7\n",
            "2    Bob      Sales   25    Male   45000           2\n",
            "3  Sarah         IT   35  Female   55000           5\n",
            "4    Tom    Finance   45    Male   70000          10\n",
            "5   Lisa  Marketing   28  Female   55000           4\n",
            "\n",
            "    Name Department  Age  Gender  Salary  Experience\n",
            "0  John         IT   30    Male   50000           3\n",
            "1  Mary  Marketing   40  Female   60000           7\n",
            "2   Bob      Sales   25    Male   45000           2\n",
            "\n",
            "    Name Department  Age  Gender  Salary  Experience\n",
            "1  Mary  Marketing   40  Female   60000           7\n",
            "5  Lisa  Marketing   28  Female   55000           4\n",
            "\n",
            "    Age  Gender\n",
            "0   30    Male\n",
            "1   40  Female\n",
            "2   25    Male\n",
            "3   35  Female\n",
            "\n",
            "    Salary  Experience\n",
            "0   50000           3\n",
            "2   45000           2\n",
            "4   70000          10\n"
          ]
        }
      ]
    }
  ]
}