{
  "nbformat": 4,
  "nbformat_minor": 0,
  "metadata": {
    "colab": {
      "provenance": [],
      "authorship_tag": "ABX9TyNi2UfKqpaYipJF3R1M1waj",
      "include_colab_link": true
    },
    "kernelspec": {
      "name": "python3",
      "display_name": "Python 3"
    },
    "language_info": {
      "name": "python"
    }
  },
  "cells": [
    {
      "cell_type": "markdown",
      "metadata": {
        "id": "view-in-github",
        "colab_type": "text"
      },
      "source": [
        "<a href=\"https://colab.research.google.com/github/Oke-Dolapo/my_code_training_python/blob/main/BankAccount.ipynb\" target=\"_parent\"><img src=\"https://colab.research.google.com/assets/colab-badge.svg\" alt=\"Open In Colab\"/></a>"
      ]
    },
    {
      "cell_type": "markdown",
      "source": [
        "What You're Aiming For\n",
        "\n",
        "The objective is to create a Python class named \"Account\" with methods for depositing, withdrawing, and checking balances, encapsulated in a script called \"bank_account.py\" to simulate basic bank account operations.\n",
        "\n",
        "\n",
        "\n",
        "Create a class called \"Account\" that has the following attributes:\n",
        "\n",
        "account_number (string)\n",
        "account_balance (float)\n",
        "account_holder (string)\n",
        "The class should have the following methods:\n",
        "\n",
        "deposit(amount: float) - This method should add the amount passed as an argument to the account balance.\n",
        "withdraw(amount: float) - This method should subtract the amount passed as an argument from the account balance, but only if the account balance is greater than the amount being withdrawn.\n",
        "check_balance() - This method should return the current account balance.\n",
        "\n",
        "Instructions\n",
        "\n",
        "\n",
        "\n",
        "Define the Account class and its attributes as specified above.\n",
        "Define the deposit() method. It should take in one argument, the amount to be deposited, and add it to the account balance.\n",
        "Define the withdraw() method. It should take in one argument, the amount to be withdrawn, and subtract it from the account balance. The method should only execute the withdrawal if the account balance is greater than or equal to the amount to be withdrawn.\n",
        "Define the check_balance() method. It should return the current account balance.\n",
        "Create an instance of the Account class, and assign it to a variable called \"my_account\".\n",
        "Use the methods of the class to deposit and withdraw money from the account, and check the account balance.\n",
        "Test the program by creating multiple instances of the class and performing different transactions on them."
      ],
      "metadata": {
        "id": "O7VE4Iv_aY_C"
      }
    },
    {
      "cell_type": "code",
      "source": [
        "class Account:\n",
        "    def __init__(self, account_holder, account_num, account_balance):\n",
        "        self.__account_holder = account_holder\n",
        "        self.__account_num = account_num\n",
        "        self.__balance = float(account_balance)\n",
        "    def depositing(self, deposit):\n",
        "        if deposit > 0:\n",
        "            self.__balance += float(deposit)\n",
        "        else: print(\"deposit amount should be greater than zero.\")\n",
        "    def withdrawing(self, withdraw):\n",
        "        if withdraw > self.__balance:\n",
        "            print(\" Insufficient fund \")\n",
        "        elif withdraw <= 0:\n",
        "            print(\"withdraw amount should be greater than zero.\")\n",
        "        else: self.__balance -= float(withdraw)\n",
        "    def checking_balance(self):\n",
        "        return f\"{self.__account_holder} account Balance is: {self.__balance}\"\n",
        "my_account = Account(\"OKE RUTH\", \"54321\", 1000)\n",
        "my_account.depositing(0)\n",
        "my_account.depositing(400)\n",
        "my_account.withdrawing(1500)\n",
        "my_account.withdrawing(0)\n",
        "my_account.withdrawing(1000)\n",
        "print(my_account.checking_balance())\n",
        "my_account2 = Account(\"GBOYEGA TUNDE\", \"56781\", 4000)\n",
        "my_account2.depositing(500)\n",
        "my_account2.withdrawing(-30)\n",
        "print(my_account2.checking_balance())\n",
        "\n"
      ],
      "metadata": {
        "colab": {
          "base_uri": "https://localhost:8080/"
        },
        "id": "cbyTEXM2aa3U",
        "outputId": "adc8d2e9-4f0e-486a-effe-424d9d421c1c"
      },
      "execution_count": 8,
      "outputs": [
        {
          "output_type": "stream",
          "name": "stdout",
          "text": [
            "deposit amount should be greater than zero.\n",
            " Insufficient fund \n",
            "withdraw amount should be greater than zero.\n",
            "OKE RUTH account Balance is: 400.0\n",
            "withdraw amount should be greater than zero.\n",
            "GBOYEGA TUNDE account Balance is: 4500.0\n"
          ]
        }
      ]
    }
  ]
}